{
 "cells": [
  {
   "cell_type": "code",
   "execution_count": 4,
   "id": "fe3c07b8-4d98-49a3-8c9e-79f2ffb81f36",
   "metadata": {},
   "outputs": [],
   "source": [
    "import pandas as pd\n",
    "\n",
    "# Load the existing CSV file\n",
    "file_path = 'World_events_consolidated_types.csv'\n",
    "df = pd.read_csv(file_path)\n",
    "\n",
    "# New events data with dates in YYYY-MM-DD format to append\n",
    "new_events = [\n",
    "    {\"event_id\": 305, \"Name of Incident\": \"Wildfires Devastate Central Chile\", \"Date\": \"2024-02-02\", \"Country\": \"Chile\", \"Type of Event\": \"Disaster\", \"Outcome\": \"Negative\"},\n",
    "    {\"event_id\": 306, \"Name of Incident\": \"Greece Legalizes Same-Sex Marriage and Adoption\", \"Date\": \"2024-02-15\", \"Country\": \"Greece\", \"Type of Event\": \"Social\", \"Outcome\": \"Positive\"},\n",
    "    {\"event_id\": 307, \"Name of Incident\": \"France Enshrines Abortion Rights in Constitution\", \"Date\": \"2024-03-04\", \"Country\": \"France\", \"Type of Event\": \"Political\", \"Outcome\": \"Positive\"},\n",
    "    {\"event_id\": 308, \"Name of Incident\": \"Taylor Swift Becomes World's First Musician Billionaire\", \"Date\": \"2024-04-02\", \"Country\": \"USA\", \"Type of Event\": \"Economic\", \"Outcome\": \"Positive\"},\n",
    "    {\"event_id\": 309, \"Name of Incident\": \"New York and New Jersey Hit by Strongest Earthquake in Over a Century\", \"Date\": \"2024-04-07\", \"Country\": \"USA\", \"Type of Event\": \"Disaster\", \"Outcome\": \"Negative\"},\n",
    "    {\"event_id\": 310, \"Name of Incident\": \"Paris Hosts 2024 Summer Olympics Amid Security Concerns\", \"Date\": \"2024-07-26\", \"Country\": \"France\", \"Type of Event\": \"Sports\", \"Outcome\": \"Mixed\"},\n",
    "    {\"event_id\": 311, \"Name of Incident\": \"Euro 2024 Tournament Held Across Germany\", \"Date\": \"2024-06-14\", \"Country\": \"Germany\", \"Type of Event\": \"Sports\", \"Outcome\": \"Positive\"},\n",
    "    {\"event_id\": 312, \"Name of Incident\": \"World's Longest Treasure Hunt Concludes in France\", \"Date\": \"2024-10-03\", \"Country\": \"France\", \"Type of Event\": \"Cultural\", \"Outcome\": \"Positive\"}\n",
    "]\n",
    "\n",
    "# Convert new events to DataFrame\n",
    "new_events_df = pd.DataFrame(new_events)\n",
    "\n",
    "# Append new events to the existing DataFrame\n",
    "df = pd.concat([df, new_events_df], ignore_index=True)\n",
    "\n",
    "# Overwrite the same CSV file with the updated DataFrame\n",
    "df.to_csv(file_path, index=False)\n"
   ]
  }
 ],
 "metadata": {
  "kernelspec": {
   "display_name": "Python 3 (ipykernel)",
   "language": "python",
   "name": "python3"
  },
  "language_info": {
   "codemirror_mode": {
    "name": "ipython",
    "version": 3
   },
   "file_extension": ".py",
   "mimetype": "text/x-python",
   "name": "python",
   "nbconvert_exporter": "python",
   "pygments_lexer": "ipython3",
   "version": "3.12.2"
  }
 },
 "nbformat": 4,
 "nbformat_minor": 5
}
